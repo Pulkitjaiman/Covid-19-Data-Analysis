{
 "cells": [
  {
   "cell_type": "markdown",
   "id": "3773b10e-e9ef-4b53-91ae-eebd20cc03ad",
   "metadata": {},
   "source": [
    "***Data Cleaning and Preparing***"
   ]
  },
  {
   "cell_type": "code",
   "execution_count": 1,
   "id": "a3a63c2b-80be-48f4-ab20-ef55ca431015",
   "metadata": {},
   "outputs": [],
   "source": [
    "# Importing essential libraries\n",
    "import pandas as pd\n",
    "import numpy as np\n",
    "import matplotlib.pyplot as plt\n",
    "import seaborn as sns"
   ]
  },
  {
   "cell_type": "markdown",
   "id": "e670bd59-25a0-443a-ab2d-3f08cd3f1399",
   "metadata": {},
   "source": [
    " "
   ]
  },
  {
   "cell_type": "code",
   "execution_count": 2,
   "id": "d25d46b1-ab72-4b65-a9e6-120c5639c380",
   "metadata": {},
   "outputs": [
    {
     "data": {
      "text/html": [
       "<div>\n",
       "<style scoped>\n",
       "    .dataframe tbody tr th:only-of-type {\n",
       "        vertical-align: middle;\n",
       "    }\n",
       "\n",
       "    .dataframe tbody tr th {\n",
       "        vertical-align: top;\n",
       "    }\n",
       "\n",
       "    .dataframe thead th {\n",
       "        text-align: right;\n",
       "    }\n",
       "</style>\n",
       "<table border=\"1\" class=\"dataframe\">\n",
       "  <thead>\n",
       "    <tr style=\"text-align: right;\">\n",
       "      <th></th>\n",
       "      <th>continent</th>\n",
       "      <th>country</th>\n",
       "      <th>date</th>\n",
       "      <th>population</th>\n",
       "      <th>total_cases</th>\n",
       "      <th>total_cases_per_million</th>\n",
       "      <th>new_cases</th>\n",
       "      <th>new_cases_smoothed</th>\n",
       "      <th>total_deaths</th>\n",
       "      <th>total_deaths_per_million</th>\n",
       "      <th>...</th>\n",
       "      <th>total_tests</th>\n",
       "      <th>new_tests</th>\n",
       "      <th>positive_rate</th>\n",
       "      <th>tests_per_case</th>\n",
       "      <th>total_vaccinations</th>\n",
       "      <th>people_vaccinated</th>\n",
       "      <th>people_fully_vaccinated</th>\n",
       "      <th>new_vaccinations</th>\n",
       "      <th>new_vaccinations_smoothed</th>\n",
       "      <th>population_density</th>\n",
       "    </tr>\n",
       "  </thead>\n",
       "  <tbody>\n",
       "    <tr>\n",
       "      <th>0</th>\n",
       "      <td>Asia</td>\n",
       "      <td>Afghanistan</td>\n",
       "      <td>2020-01-04</td>\n",
       "      <td>40578801.0</td>\n",
       "      <td>0</td>\n",
       "      <td>0.0</td>\n",
       "      <td>0.0</td>\n",
       "      <td>NaN</td>\n",
       "      <td>0</td>\n",
       "      <td>0.0</td>\n",
       "      <td>...</td>\n",
       "      <td>NaN</td>\n",
       "      <td>NaN</td>\n",
       "      <td>NaN</td>\n",
       "      <td>NaN</td>\n",
       "      <td>NaN</td>\n",
       "      <td>NaN</td>\n",
       "      <td>NaN</td>\n",
       "      <td>NaN</td>\n",
       "      <td>NaN</td>\n",
       "      <td>62.215477</td>\n",
       "    </tr>\n",
       "    <tr>\n",
       "      <th>1</th>\n",
       "      <td>Asia</td>\n",
       "      <td>Afghanistan</td>\n",
       "      <td>2020-01-05</td>\n",
       "      <td>40578801.0</td>\n",
       "      <td>0</td>\n",
       "      <td>0.0</td>\n",
       "      <td>0.0</td>\n",
       "      <td>NaN</td>\n",
       "      <td>0</td>\n",
       "      <td>0.0</td>\n",
       "      <td>...</td>\n",
       "      <td>NaN</td>\n",
       "      <td>NaN</td>\n",
       "      <td>NaN</td>\n",
       "      <td>NaN</td>\n",
       "      <td>NaN</td>\n",
       "      <td>NaN</td>\n",
       "      <td>NaN</td>\n",
       "      <td>NaN</td>\n",
       "      <td>NaN</td>\n",
       "      <td>62.215477</td>\n",
       "    </tr>\n",
       "    <tr>\n",
       "      <th>2</th>\n",
       "      <td>Asia</td>\n",
       "      <td>Afghanistan</td>\n",
       "      <td>2020-01-06</td>\n",
       "      <td>40578801.0</td>\n",
       "      <td>0</td>\n",
       "      <td>0.0</td>\n",
       "      <td>0.0</td>\n",
       "      <td>NaN</td>\n",
       "      <td>0</td>\n",
       "      <td>0.0</td>\n",
       "      <td>...</td>\n",
       "      <td>NaN</td>\n",
       "      <td>NaN</td>\n",
       "      <td>NaN</td>\n",
       "      <td>NaN</td>\n",
       "      <td>NaN</td>\n",
       "      <td>NaN</td>\n",
       "      <td>NaN</td>\n",
       "      <td>NaN</td>\n",
       "      <td>NaN</td>\n",
       "      <td>62.215477</td>\n",
       "    </tr>\n",
       "    <tr>\n",
       "      <th>3</th>\n",
       "      <td>Asia</td>\n",
       "      <td>Afghanistan</td>\n",
       "      <td>2020-01-07</td>\n",
       "      <td>40578801.0</td>\n",
       "      <td>0</td>\n",
       "      <td>0.0</td>\n",
       "      <td>0.0</td>\n",
       "      <td>NaN</td>\n",
       "      <td>0</td>\n",
       "      <td>0.0</td>\n",
       "      <td>...</td>\n",
       "      <td>NaN</td>\n",
       "      <td>NaN</td>\n",
       "      <td>NaN</td>\n",
       "      <td>NaN</td>\n",
       "      <td>NaN</td>\n",
       "      <td>NaN</td>\n",
       "      <td>NaN</td>\n",
       "      <td>NaN</td>\n",
       "      <td>NaN</td>\n",
       "      <td>62.215477</td>\n",
       "    </tr>\n",
       "    <tr>\n",
       "      <th>4</th>\n",
       "      <td>Asia</td>\n",
       "      <td>Afghanistan</td>\n",
       "      <td>2020-01-08</td>\n",
       "      <td>40578801.0</td>\n",
       "      <td>0</td>\n",
       "      <td>0.0</td>\n",
       "      <td>0.0</td>\n",
       "      <td>NaN</td>\n",
       "      <td>0</td>\n",
       "      <td>0.0</td>\n",
       "      <td>...</td>\n",
       "      <td>NaN</td>\n",
       "      <td>NaN</td>\n",
       "      <td>NaN</td>\n",
       "      <td>NaN</td>\n",
       "      <td>NaN</td>\n",
       "      <td>NaN</td>\n",
       "      <td>NaN</td>\n",
       "      <td>NaN</td>\n",
       "      <td>NaN</td>\n",
       "      <td>62.215477</td>\n",
       "    </tr>\n",
       "  </tbody>\n",
       "</table>\n",
       "<p>5 rows × 23 columns</p>\n",
       "</div>"
      ],
      "text/plain": [
       "  continent      country       date  population  total_cases  \\\n",
       "0      Asia  Afghanistan 2020-01-04  40578801.0            0   \n",
       "1      Asia  Afghanistan 2020-01-05  40578801.0            0   \n",
       "2      Asia  Afghanistan 2020-01-06  40578801.0            0   \n",
       "3      Asia  Afghanistan 2020-01-07  40578801.0            0   \n",
       "4      Asia  Afghanistan 2020-01-08  40578801.0            0   \n",
       "\n",
       "   total_cases_per_million  new_cases  new_cases_smoothed  total_deaths  \\\n",
       "0                      0.0        0.0                 NaN             0   \n",
       "1                      0.0        0.0                 NaN             0   \n",
       "2                      0.0        0.0                 NaN             0   \n",
       "3                      0.0        0.0                 NaN             0   \n",
       "4                      0.0        0.0                 NaN             0   \n",
       "\n",
       "   total_deaths_per_million  ...  total_tests  new_tests  positive_rate  \\\n",
       "0                       0.0  ...          NaN        NaN            NaN   \n",
       "1                       0.0  ...          NaN        NaN            NaN   \n",
       "2                       0.0  ...          NaN        NaN            NaN   \n",
       "3                       0.0  ...          NaN        NaN            NaN   \n",
       "4                       0.0  ...          NaN        NaN            NaN   \n",
       "\n",
       "   tests_per_case  total_vaccinations  people_vaccinated  \\\n",
       "0             NaN                 NaN                NaN   \n",
       "1             NaN                 NaN                NaN   \n",
       "2             NaN                 NaN                NaN   \n",
       "3             NaN                 NaN                NaN   \n",
       "4             NaN                 NaN                NaN   \n",
       "\n",
       "   people_fully_vaccinated  new_vaccinations  new_vaccinations_smoothed  \\\n",
       "0                      NaN               NaN                        NaN   \n",
       "1                      NaN               NaN                        NaN   \n",
       "2                      NaN               NaN                        NaN   \n",
       "3                      NaN               NaN                        NaN   \n",
       "4                      NaN               NaN                        NaN   \n",
       "\n",
       "   population_density  \n",
       "0           62.215477  \n",
       "1           62.215477  \n",
       "2           62.215477  \n",
       "3           62.215477  \n",
       "4           62.215477  \n",
       "\n",
       "[5 rows x 23 columns]"
      ]
     },
     "execution_count": 2,
     "metadata": {},
     "output_type": "execute_result"
    }
   ],
   "source": [
    "# Load the dataset from the Excel file\n",
    "df = pd.read_excel(\"D:/GOKLYN INTERNSHIP 2025/3. Project 2/Clean Data/cd.xlsx\")\n",
    "\n",
    "# Display the first 5 rows of the dataset\n",
    "df.head()"
   ]
  },
  {
   "cell_type": "markdown",
   "id": "c7120e69-2c39-48df-b931-b5d8536933f6",
   "metadata": {},
   "source": [
    " "
   ]
  },
  {
   "cell_type": "code",
   "execution_count": 3,
   "id": "17cd48aa-85f4-4c2e-9de0-14e44e95269b",
   "metadata": {},
   "outputs": [
    {
     "data": {
      "text/plain": [
       "(486795, 23)"
      ]
     },
     "execution_count": 3,
     "metadata": {},
     "output_type": "execute_result"
    }
   ],
   "source": [
    "# Displaying the shape (number of rows and columns) of the dataset to understand its size.\n",
    "df.shape"
   ]
  },
  {
   "cell_type": "code",
   "execution_count": 4,
   "id": "e87e35c3-9f2a-42d8-b73a-64c950016938",
   "metadata": {},
   "outputs": [
    {
     "name": "stdout",
     "output_type": "stream",
     "text": [
      "<class 'pandas.core.frame.DataFrame'>\n",
      "RangeIndex: 486795 entries, 0 to 486794\n",
      "Data columns (total 23 columns):\n",
      " #   Column                     Non-Null Count   Dtype         \n",
      "---  ------                     --------------   -----         \n",
      " 0   continent                  455515 non-null  object        \n",
      " 1   country                    486795 non-null  object        \n",
      " 2   date                       486795 non-null  datetime64[ns]\n",
      " 3   population                 477020 non-null  float64       \n",
      " 4   total_cases                486795 non-null  int64         \n",
      " 5   total_cases_per_million    486795 non-null  float64       \n",
      " 6   new_cases                  483980 non-null  float64       \n",
      " 7   new_cases_smoothed         482764 non-null  float64       \n",
      " 8   total_deaths               486795 non-null  int64         \n",
      " 9   total_deaths_per_million   486795 non-null  float64       \n",
      " 10  new_deaths                 484741 non-null  float64       \n",
      " 11  new_deaths_smoothed        483529 non-null  float64       \n",
      " 12  stringency_index           197833 non-null  float64       \n",
      " 13  total_tests                77801 non-null   float64       \n",
      " 14  new_tests                  73918 non-null   float64       \n",
      " 15  positive_rate              101559 non-null  float64       \n",
      " 16  tests_per_case             100644 non-null  float64       \n",
      " 17  total_vaccinations         80983 non-null   float64       \n",
      " 18  people_vaccinated          76880 non-null   float64       \n",
      " 19  people_fully_vaccinated    75027 non-null   float64       \n",
      " 20  new_vaccinations           66983 non-null   float64       \n",
      " 21  new_vaccinations_smoothed  199158 non-null  float64       \n",
      " 22  population_density         469200 non-null  float64       \n",
      "dtypes: datetime64[ns](1), float64(18), int64(2), object(2)\n",
      "memory usage: 85.4+ MB\n"
     ]
    }
   ],
   "source": [
    "# Getting a concise summary of the dataset\n",
    "df.info()"
   ]
  },
  {
   "cell_type": "markdown",
   "id": "e92d0fcc-6694-4852-8b2d-812de6b86102",
   "metadata": {},
   "source": [
    " "
   ]
  },
  {
   "cell_type": "code",
   "execution_count": 5,
   "id": "5ca1f7b9-4e37-4069-9031-9463a70bb61c",
   "metadata": {},
   "outputs": [],
   "source": [
    "# Convert categorical/object columns to string type\n",
    "df['continent'] = df['continent'].astype('string')\n",
    "df['country'] = df['country'].astype('string')\n",
    "\n",
    "# Columns expected to be whole numbers but may contain NaNs\n",
    "int_cols = [\n",
    "    'population', 'total_cases', 'new_cases', 'total_deaths', 'new_deaths',\n",
    "    'total_tests', 'new_tests',\n",
    "    'total_vaccinations', 'people_vaccinated', 'people_fully_vaccinated',\n",
    "    'new_vaccinations'\n",
    "]\n",
    "\n",
    "# Round and convert to nullable integer\n",
    "for col in int_cols:\n",
    "    df[col] = pd.to_numeric(df[col], errors='coerce')\n",
    "    df[col] = df[col].round().astype('Int64')\n",
    "\n",
    "# Columns that should remain float (ratios, rolling averages, densities)\n",
    "float_cols = [\n",
    "    'total_cases_per_million', 'new_cases_smoothed',\n",
    "    'total_deaths_per_million', 'new_deaths_smoothed',\n",
    "    'stringency_index', 'tests_per_case', 'positive_rate',\n",
    "    'new_vaccinations_smoothed', 'population_density'\n",
    "]\n",
    "\n",
    "for col in float_cols:\n",
    "    df[col] = pd.to_numeric(df[col], errors='coerce').astype('float64')\n"
   ]
  },
  {
   "cell_type": "code",
   "execution_count": 6,
   "id": "34b02786-1f80-4596-9af3-3a9467f0fe0e",
   "metadata": {},
   "outputs": [
    {
     "name": "stdout",
     "output_type": "stream",
     "text": [
      "<class 'pandas.core.frame.DataFrame'>\n",
      "RangeIndex: 486795 entries, 0 to 486794\n",
      "Data columns (total 23 columns):\n",
      " #   Column                     Non-Null Count   Dtype         \n",
      "---  ------                     --------------   -----         \n",
      " 0   continent                  455515 non-null  string        \n",
      " 1   country                    486795 non-null  string        \n",
      " 2   date                       486795 non-null  datetime64[ns]\n",
      " 3   population                 477020 non-null  Int64         \n",
      " 4   total_cases                486795 non-null  Int64         \n",
      " 5   total_cases_per_million    486795 non-null  float64       \n",
      " 6   new_cases                  483980 non-null  Int64         \n",
      " 7   new_cases_smoothed         482764 non-null  float64       \n",
      " 8   total_deaths               486795 non-null  Int64         \n",
      " 9   total_deaths_per_million   486795 non-null  float64       \n",
      " 10  new_deaths                 484741 non-null  Int64         \n",
      " 11  new_deaths_smoothed        483529 non-null  float64       \n",
      " 12  stringency_index           197833 non-null  float64       \n",
      " 13  total_tests                77801 non-null   Int64         \n",
      " 14  new_tests                  73918 non-null   Int64         \n",
      " 15  positive_rate              101559 non-null  float64       \n",
      " 16  tests_per_case             100644 non-null  float64       \n",
      " 17  total_vaccinations         80983 non-null   Int64         \n",
      " 18  people_vaccinated          76880 non-null   Int64         \n",
      " 19  people_fully_vaccinated    75027 non-null   Int64         \n",
      " 20  new_vaccinations           66983 non-null   Int64         \n",
      " 21  new_vaccinations_smoothed  199158 non-null  float64       \n",
      " 22  population_density         469200 non-null  float64       \n",
      "dtypes: Int64(11), datetime64[ns](1), float64(9), string(2)\n",
      "memory usage: 90.5 MB\n"
     ]
    }
   ],
   "source": [
    "df.info()"
   ]
  },
  {
   "cell_type": "markdown",
   "id": "db8f1868-64a9-43a2-a064-f0708bd9806f",
   "metadata": {},
   "source": [
    " "
   ]
  },
  {
   "cell_type": "code",
   "execution_count": 7,
   "id": "e6ab8bea-fcfe-4298-b1e4-40719516d0a3",
   "metadata": {},
   "outputs": [
    {
     "data": {
      "text/plain": [
       "continent                     31280\n",
       "country                           0\n",
       "date                              0\n",
       "population                     9775\n",
       "total_cases                       0\n",
       "total_cases_per_million           0\n",
       "new_cases                      2815\n",
       "new_cases_smoothed             4031\n",
       "total_deaths                      0\n",
       "total_deaths_per_million          0\n",
       "new_deaths                     2054\n",
       "new_deaths_smoothed            3266\n",
       "stringency_index             288962\n",
       "total_tests                  408994\n",
       "new_tests                    412877\n",
       "positive_rate                385236\n",
       "tests_per_case               386151\n",
       "total_vaccinations           405812\n",
       "people_vaccinated            409915\n",
       "people_fully_vaccinated      411768\n",
       "new_vaccinations             419812\n",
       "new_vaccinations_smoothed    287637\n",
       "population_density            17595\n",
       "dtype: int64"
      ]
     },
     "execution_count": 7,
     "metadata": {},
     "output_type": "execute_result"
    }
   ],
   "source": [
    "# Check for missing (null) values in each column of the DataFrame\n",
    "df.isnull().sum()"
   ]
  },
  {
   "cell_type": "markdown",
   "id": "9509b980-080c-46eb-b6e1-a2e6169ce4ae",
   "metadata": {},
   "source": [
    " "
   ]
  },
  {
   "cell_type": "code",
   "execution_count": 8,
   "id": "1e4420e9-5ed2-4232-8cbc-bb693739cf82",
   "metadata": {},
   "outputs": [],
   "source": [
    "# List of known non-country entries that appear in the dataset.\n",
    "# These represent regions or income groups, not individual countries.\n",
    "non_countries = [\n",
    "    'World', 'Asia', 'Africa', 'Europe', 'Oceania', 'North America', 'South America',\n",
    "    'European Union (27)', 'High-income countries', 'Low-income countries',\n",
    "    'Upper-middle-income countries', 'Lower-middle-income countries',\n",
    "    'World excl. China', 'World excl. China and South Korea',\n",
    "    'World excl. China, South Korea, Japan and Singapore',\n",
    "    'Asia excl. China'\n",
    "]\n",
    "\n",
    "# Filter the DataFrame to exclude rows where the 'country' column\n",
    "# matches any entry in the non_countries list\n",
    "df = df[~df['country'].isin(non_countries)]\n",
    "\n",
    "# Reset the DataFrame index after filtering to maintain a clean index\n",
    "df.reset_index(drop=True, inplace=True)"
   ]
  },
  {
   "cell_type": "code",
   "execution_count": 9,
   "id": "03fe0758-a983-44ea-a88f-8b04a9953035",
   "metadata": {},
   "outputs": [
    {
     "data": {
      "text/plain": [
       "continent                         0\n",
       "country                           0\n",
       "date                              0\n",
       "population                     1955\n",
       "total_cases                       0\n",
       "total_cases_per_million           0\n",
       "new_cases                      2815\n",
       "new_cases_smoothed             3951\n",
       "total_deaths                      0\n",
       "total_deaths_per_million          0\n",
       "new_deaths                     2054\n",
       "new_deaths_smoothed            3186\n",
       "stringency_index             257682\n",
       "total_tests                  377714\n",
       "new_tests                    381597\n",
       "positive_rate                353956\n",
       "tests_per_case               354871\n",
       "total_vaccinations           390732\n",
       "people_vaccinated            394835\n",
       "people_fully_vaccinated      396688\n",
       "new_vaccinations             404732\n",
       "new_vaccinations_smoothed    272557\n",
       "population_density             9775\n",
       "dtype: int64"
      ]
     },
     "execution_count": 9,
     "metadata": {},
     "output_type": "execute_result"
    }
   ],
   "source": [
    "df.isnull().sum()"
   ]
  },
  {
   "cell_type": "markdown",
   "id": "edff9078-25cc-4fe0-9ee2-9f7134e0a4f3",
   "metadata": {},
   "source": [
    " "
   ]
  },
  {
   "cell_type": "code",
   "execution_count": 10,
   "id": "c58df59d-5f7b-4129-bcd3-9ae3766626f2",
   "metadata": {},
   "outputs": [],
   "source": [
    "# Drop rows from the DataFrame where the 'population' column has missing (NaN) values\n",
    "df = df.dropna(subset=['population'])"
   ]
  },
  {
   "cell_type": "code",
   "execution_count": 11,
   "id": "0dc5911d-43f4-4ae0-8ccf-bc481620e793",
   "metadata": {},
   "outputs": [
    {
     "data": {
      "text/plain": [
       "0"
      ]
     },
     "execution_count": 11,
     "metadata": {},
     "output_type": "execute_result"
    }
   ],
   "source": [
    "# Count the number of missing (NaN) values specifically in the 'population' column\n",
    "df['population'].isnull().sum()"
   ]
  },
  {
   "cell_type": "markdown",
   "id": "9b05008a-0d26-423c-acf6-6044a7d20fb8",
   "metadata": {},
   "source": [
    " "
   ]
  },
  {
   "cell_type": "code",
   "execution_count": 12,
   "id": "d389541e-7b85-4325-afe2-5cc3518a21f6",
   "metadata": {},
   "outputs": [
    {
     "data": {
      "text/plain": [
       "0"
      ]
     },
     "execution_count": 12,
     "metadata": {},
     "output_type": "execute_result"
    }
   ],
   "source": [
    "# Replace all missing (NaN) values in the 'new_cases' column with 0\n",
    "df['new_cases'] = df['new_cases'].fillna(0)\n",
    "\n",
    "# Count how many missing values are left in the 'new_cases' column (should be 0 after filling)\n",
    "df['new_cases'].isnull().sum()"
   ]
  },
  {
   "cell_type": "markdown",
   "id": "8c38afba-33ab-4671-b0cd-1c7b8d9c11a5",
   "metadata": {},
   "source": [
    " "
   ]
  },
  {
   "cell_type": "code",
   "execution_count": 13,
   "id": "291fd491-4c8f-4a1a-979d-5dd6f931b9b7",
   "metadata": {},
   "outputs": [
    {
     "data": {
      "text/plain": [
       "0"
      ]
     },
     "execution_count": 13,
     "metadata": {},
     "output_type": "execute_result"
    }
   ],
   "source": [
    "# Replace all missing (NaN) values in the 'new_cases_smoothed' column with 0\n",
    "df['new_cases_smoothed'] = df['new_cases_smoothed'].fillna(0)\n",
    "\n",
    "# Count and display the number of missing values remaining in the 'new_cases_smoothed' column\n",
    "# (should return 0 if all NaNs were successfully filled)\n",
    "df['new_cases_smoothed'].isnull().sum()"
   ]
  },
  {
   "cell_type": "markdown",
   "id": "a65e1d7a-46ef-4c01-9a6e-83e02ec51d74",
   "metadata": {},
   "source": [
    " "
   ]
  },
  {
   "cell_type": "code",
   "execution_count": 14,
   "id": "c3db7da7-23f1-4ec7-a0ee-374dc2483251",
   "metadata": {},
   "outputs": [
    {
     "data": {
      "text/plain": [
       "0"
      ]
     },
     "execution_count": 14,
     "metadata": {},
     "output_type": "execute_result"
    }
   ],
   "source": [
    "# Replace all missing (NaN) values in the 'new_deaths' column with 0\n",
    "df['new_deaths'] = df['new_deaths'].fillna(0)\n",
    "\n",
    "# Count and display the number of remaining missing values in the 'new_deaths' column\n",
    "# (expected to be 0 after filling)\n",
    "df['new_deaths'].isnull().sum()"
   ]
  },
  {
   "cell_type": "markdown",
   "id": "3210fa75-fdfc-4a52-9413-86edee71b5d8",
   "metadata": {},
   "source": [
    " "
   ]
  },
  {
   "cell_type": "code",
   "execution_count": 15,
   "id": "256409c7-4b45-4fa3-ad52-274ff13d21ba",
   "metadata": {},
   "outputs": [
    {
     "data": {
      "text/plain": [
       "0"
      ]
     },
     "execution_count": 15,
     "metadata": {},
     "output_type": "execute_result"
    }
   ],
   "source": [
    "# Replace all missing (NaN) values in the 'new_deaths_smoothed' column with 0\n",
    "df['new_deaths_smoothed'] = df['new_deaths_smoothed'].fillna(0)\n",
    "\n",
    "# Count and display the number of remaining missing values in the 'new_deaths_smoothed' column\n",
    "# (should be 0 after filling)\n",
    "df['new_deaths_smoothed'].isnull().sum()"
   ]
  },
  {
   "cell_type": "markdown",
   "id": "e0aaeca4-e616-4ac6-894e-1935d4621146",
   "metadata": {},
   "source": [
    " "
   ]
  },
  {
   "cell_type": "code",
   "execution_count": 16,
   "id": "7027753b-0a96-4cfc-b33c-41cf5c80f2f3",
   "metadata": {},
   "outputs": [
    {
     "name": "stderr",
     "output_type": "stream",
     "text": [
      "C:\\Users\\Asus\\AppData\\Local\\Temp\\ipykernel_25620\\3281007841.py:3: FutureWarning: Series.fillna with 'method' is deprecated and will raise in a future version. Use obj.ffill() or obj.bfill() instead.\n",
      "  df['stringency_index'] = df['stringency_index'].fillna(method='ffill')\n"
     ]
    }
   ],
   "source": [
    "# Forward-fill missing values in the 'stringency_index' column\n",
    "# This means each NaN is replaced with the last valid value seen above it\n",
    "df['stringency_index'] = df['stringency_index'].fillna(method='ffill')"
   ]
  },
  {
   "cell_type": "code",
   "execution_count": 17,
   "id": "360e03e9-1648-4951-bc78-2797a5fc8ce1",
   "metadata": {},
   "outputs": [
    {
     "data": {
      "text/plain": [
       "0"
      ]
     },
     "execution_count": 17,
     "metadata": {},
     "output_type": "execute_result"
    }
   ],
   "source": [
    "# Count and display the number of remaining missing (NaN) values in the 'stringency_index' column\n",
    "df['stringency_index'].isnull().sum()"
   ]
  },
  {
   "cell_type": "markdown",
   "id": "e09d6136-a9ce-4489-9e28-12c969fd60a6",
   "metadata": {},
   "source": [
    " "
   ]
  },
  {
   "cell_type": "code",
   "execution_count": 18,
   "id": "9a0e1595-bb70-4883-8a32-d225fa004d2b",
   "metadata": {},
   "outputs": [],
   "source": [
    "# Replace all missing (NaN) values in the 'new_tests' column with 0\n",
    "df['new_tests'] = df['new_tests'].fillna(0)"
   ]
  },
  {
   "cell_type": "code",
   "execution_count": 19,
   "id": "e2a02c37-d9c0-41c7-ba3b-5725b8969636",
   "metadata": {},
   "outputs": [
    {
     "data": {
      "text/plain": [
       "0"
      ]
     },
     "execution_count": 19,
     "metadata": {},
     "output_type": "execute_result"
    }
   ],
   "source": [
    "# Count and display the number of remaining missing (NaN) values in the 'new_tests' column\n",
    "df['new_tests'].isnull().sum()"
   ]
  },
  {
   "cell_type": "markdown",
   "id": "3d39a842-aa80-444b-acea-5a809d50eb5a",
   "metadata": {},
   "source": [
    " "
   ]
  },
  {
   "cell_type": "code",
   "execution_count": 20,
   "id": "098fd5f0-120e-4c44-bfdd-5005aae0fdb0",
   "metadata": {},
   "outputs": [],
   "source": [
    "# First, sort the DataFrame by 'country' and then by 'date'\n",
    "# This ensures that forward-filling operates on chronologically ordered data within each country\n",
    "df = df.sort_values(by=['country', 'date'])\n",
    "\n",
    "# Forward-fill missing values in the 'total_tests' column, separately within each country\n",
    "# This assumes the total number of tests remains the same until updated with a new value\n",
    "df['total_tests'] = df.groupby('country')['total_tests'].ffill()"
   ]
  },
  {
   "cell_type": "code",
   "execution_count": 21,
   "id": "7f8543fd-97f9-471d-ac8d-91e024db45bc",
   "metadata": {},
   "outputs": [],
   "source": [
    "# Backward-fill missing values in the 'total_tests' column within each country group\n",
    "# This replaces NaN values with the next valid value that appears below in the time series\n",
    "df['total_tests'] = df.groupby('country')['total_tests'].bfill()"
   ]
  },
  {
   "cell_type": "markdown",
   "id": "f59b9dd9-009f-4768-aa92-d85be1fd3df8",
   "metadata": {},
   "source": [
    " "
   ]
  },
  {
   "cell_type": "code",
   "execution_count": 22,
   "id": "ef6286eb-8f27-429c-8d93-e46c824ddf5a",
   "metadata": {},
   "outputs": [],
   "source": [
    "# Identify countries that have only missing values (NaN) in the 'total_tests' column\n",
    "# These countries never reported any testing data\n",
    "no_test_countries = df[df['total_tests'].isna()]['country'].unique()\n",
    "\n",
    "# Remove all rows belonging to those countries from the DataFrame\n",
    "df = df[~df['country'].isin(no_test_countries)]"
   ]
  },
  {
   "cell_type": "markdown",
   "id": "a246e451-1eec-416e-9ff8-feba140b151e",
   "metadata": {},
   "source": [
    " "
   ]
  },
  {
   "cell_type": "code",
   "execution_count": 23,
   "id": "97757e32-b053-4b2a-97b0-d6efad2d0947",
   "metadata": {},
   "outputs": [
    {
     "data": {
      "text/plain": [
       "continent                         0\n",
       "country                           0\n",
       "date                              0\n",
       "population                        0\n",
       "total_cases                       0\n",
       "total_cases_per_million           0\n",
       "new_cases                         0\n",
       "new_cases_smoothed                0\n",
       "total_deaths                      0\n",
       "total_deaths_per_million          0\n",
       "new_deaths                        0\n",
       "new_deaths_smoothed               0\n",
       "stringency_index                  0\n",
       "total_tests                       0\n",
       "new_tests                         0\n",
       "positive_rate                259685\n",
       "tests_per_case               260600\n",
       "total_vaccinations           299314\n",
       "people_vaccinated            303123\n",
       "people_fully_vaccinated      304894\n",
       "new_vaccinations             311524\n",
       "new_vaccinations_smoothed    201581\n",
       "population_density             1955\n",
       "dtype: int64"
      ]
     },
     "execution_count": 23,
     "metadata": {},
     "output_type": "execute_result"
    }
   ],
   "source": [
    "# Check and display the total number of missing (NaN) values in each column of the DataFrame\n",
    "df.isnull().sum()"
   ]
  },
  {
   "cell_type": "markdown",
   "id": "e7c8271e-658c-4b89-a4dd-330ab705464a",
   "metadata": {},
   "source": [
    " "
   ]
  },
  {
   "cell_type": "markdown",
   "id": "fc0bed48-6f63-450b-b34d-4470d85eb825",
   "metadata": {},
   "source": [
    " "
   ]
  },
  {
   "cell_type": "code",
   "execution_count": 24,
   "id": "f8d9e4ad-e092-432f-a906-0b427ca96048",
   "metadata": {},
   "outputs": [
    {
     "data": {
      "text/plain": [
       "288065"
      ]
     },
     "execution_count": 24,
     "metadata": {},
     "output_type": "execute_result"
    }
   ],
   "source": [
    "# Count the number of rows where the value in the 'new_tests' column is exactly 0\n",
    "(df['new_tests'] == 0).sum()"
   ]
  },
  {
   "cell_type": "code",
   "execution_count": 25,
   "id": "54b78ffe-27d1-453d-8a1a-82bc3ce9bdf7",
   "metadata": {},
   "outputs": [],
   "source": [
    "# Forward-fill missing values in the 'new_tests' column within each country group\n",
    "# This assumes that the number of new tests remains the same as the last reported value\n",
    "df['new_tests'] = df.groupby('country')['new_tests'].ffill()"
   ]
  },
  {
   "cell_type": "code",
   "execution_count": 26,
   "id": "da8f2c7e-c063-43d7-be49-28fa951d8adb",
   "metadata": {},
   "outputs": [],
   "source": [
    "# Calculate the COVID-19 test positivity rate for each row\n",
    "# Divide 'new_cases' by 'new_tests' to get the fraction of tests that are positive\n",
    "# Replace 0s in 'new_tests' with NaN to avoid division by zero errors\n",
    "df['positive_rate'] = df['new_cases'] / df['new_tests'].replace(0, np.nan)"
   ]
  },
  {
   "cell_type": "code",
   "execution_count": 27,
   "id": "72fc3e84-e092-492b-bb27-59040dcfc820",
   "metadata": {},
   "outputs": [
    {
     "data": {
      "text/plain": [
       "288065"
      ]
     },
     "execution_count": 27,
     "metadata": {},
     "output_type": "execute_result"
    }
   ],
   "source": [
    "# Count and display the number of missing (NaN) values in the 'positive_rate' column\n",
    "df['positive_rate'].isnull().sum()"
   ]
  },
  {
   "cell_type": "markdown",
   "id": "19401868-9161-47bf-978e-4f144e57dd38",
   "metadata": {},
   "source": [
    " "
   ]
  },
  {
   "cell_type": "code",
   "execution_count": 28,
   "id": "8330111a-2a09-468a-846c-6ede8591c45a",
   "metadata": {},
   "outputs": [],
   "source": [
    "# Calculate the number of tests conducted per confirmed case\n",
    "# Divide 'total_tests' by 'total_cases'\n",
    "# Replace 0 in 'total_cases' with NaN to avoid division by zero\n",
    "df['tests_per_case'] = df['total_tests'] / df['total_cases'].replace(0, np.nan)"
   ]
  },
  {
   "cell_type": "code",
   "execution_count": 29,
   "id": "0aac95c4-e8db-47c3-968d-9c4570ddf764",
   "metadata": {},
   "outputs": [
    {
     "data": {
      "text/plain": [
       "14214"
      ]
     },
     "execution_count": 29,
     "metadata": {},
     "output_type": "execute_result"
    }
   ],
   "source": [
    "# Count and display the number of missing (NaN) values remaining in the 'tests_per_case' column\n",
    "df['tests_per_case'].isnull().sum()"
   ]
  },
  {
   "cell_type": "code",
   "execution_count": 30,
   "id": "310cb2e4-4f72-49ff-94c8-2643bf9e2231",
   "metadata": {},
   "outputs": [],
   "source": [
    "# Fill missing values in the 'tests_per_case' column within each country group\n",
    "# First, forward-fill (ffill) missing values — propagating the last known value downward\n",
    "# Then, backward-fill (bfill) any remaining NaNs — propagating the next known value upward\n",
    "df['tests_per_case'] = df.groupby('country')['tests_per_case'].ffill().bfill()"
   ]
  },
  {
   "cell_type": "code",
   "execution_count": 31,
   "id": "dbd36127-12f0-470c-9b16-6a07bb537ab2",
   "metadata": {},
   "outputs": [
    {
     "data": {
      "text/plain": [
       "0"
      ]
     },
     "execution_count": 31,
     "metadata": {},
     "output_type": "execute_result"
    }
   ],
   "source": [
    "# Count and display the number of missing (NaN) values remaining in the 'tests_per_case' column\n",
    "df['tests_per_case'].isnull().sum()"
   ]
  },
  {
   "cell_type": "markdown",
   "id": "792fbc99-c92c-4520-834a-97e47a521b1b",
   "metadata": {},
   "source": [
    " "
   ]
  },
  {
   "cell_type": "code",
   "execution_count": 32,
   "id": "1e5a7f5d-00ed-4820-8def-731c6395e15f",
   "metadata": {},
   "outputs": [],
   "source": [
    "# Define a list of vaccination-related columns to clean\n",
    "vax_cols = [\n",
    "    'total_vaccinations',           # Cumulative total number of vaccine doses administered\n",
    "    'people_vaccinated',            # Number of people who received at least one dose\n",
    "    'people_fully_vaccinated',      # Number of people who received all required doses\n",
    "    'new_vaccinations',             # Number of vaccinations administered on a given day\n",
    "    'new_vaccinations_smoothed'     # Smoothed version (e.g., 7-day average) of new vaccinations\n",
    "]\n",
    "\n",
    "# For each vaccination-related column, fill missing values within each country's time series\n",
    "for col in vax_cols:\n",
    "    # First forward-fill to propagate previous known values\n",
    "    df[col] = df.groupby('country')[col].ffill()\n",
    "    \n",
    "    # Then backward-fill to fill in missing values at the beginning of the time series\n",
    "    df[col] = df.groupby('country')[col].bfill()"
   ]
  },
  {
   "cell_type": "code",
   "execution_count": 33,
   "id": "3a97406f-7273-445d-911e-2c7d14967f1f",
   "metadata": {},
   "outputs": [
    {
     "data": {
      "text/plain": [
       "continent                         0\n",
       "country                           0\n",
       "date                              0\n",
       "population                        0\n",
       "total_cases                       0\n",
       "total_cases_per_million           0\n",
       "new_cases                         0\n",
       "new_cases_smoothed                0\n",
       "total_deaths                      0\n",
       "total_deaths_per_million          0\n",
       "new_deaths                        0\n",
       "new_deaths_smoothed               0\n",
       "stringency_index                  0\n",
       "total_tests                       0\n",
       "new_tests                         0\n",
       "positive_rate                288065\n",
       "tests_per_case                    0\n",
       "total_vaccinations            15640\n",
       "people_vaccinated             15640\n",
       "people_fully_vaccinated       19550\n",
       "new_vaccinations              62560\n",
       "new_vaccinations_smoothed     15640\n",
       "population_density             1955\n",
       "dtype: int64"
      ]
     },
     "execution_count": 33,
     "metadata": {},
     "output_type": "execute_result"
    }
   ],
   "source": [
    "# Display the number of missing (NaN) values for each column in the DataFrame\n",
    "df.isnull().sum()"
   ]
  },
  {
   "cell_type": "code",
   "execution_count": 34,
   "id": "d01ac535-8d1f-4e25-bc74-c56bc673a23b",
   "metadata": {},
   "outputs": [],
   "source": [
    "# Identify countries that have at least one non-null value in 'total_vaccinations'\n",
    "# This checks if the country has reported any vaccination data at all\n",
    "countries_with_vax = df.groupby('country')['total_vaccinations'].apply(lambda x: x.notna().any())\n",
    "\n",
    "# Extract the list of country names where vaccination data exists (True values)\n",
    "valid_countries = countries_with_vax[countries_with_vax].index\n",
    "\n",
    "# Filter the DataFrame to only include countries with vaccination data\n",
    "df = df[df['country'].isin(valid_countries)]"
   ]
  },
  {
   "cell_type": "code",
   "execution_count": 35,
   "id": "8230b3a4-f900-4a95-98d4-98d7216a554c",
   "metadata": {},
   "outputs": [
    {
     "data": {
      "text/plain": [
       "176"
      ]
     },
     "execution_count": 35,
     "metadata": {},
     "output_type": "execute_result"
    }
   ],
   "source": [
    "# Count and display the number of unique countries remaining in the dataset\n",
    "df['country'].nunique()"
   ]
  },
  {
   "cell_type": "code",
   "execution_count": 36,
   "id": "acc39991-b7a2-4aec-9e18-0375ed6c79b5",
   "metadata": {},
   "outputs": [
    {
     "data": {
      "text/plain": [
       "positive_rate                275521\n",
       "tests_per_case                    0\n",
       "total_vaccinations                0\n",
       "people_vaccinated                 0\n",
       "people_fully_vaccinated        3910\n",
       "new_vaccinations              46920\n",
       "new_vaccinations_smoothed         0\n",
       "population_density             1955\n",
       "dtype: int64"
      ]
     },
     "execution_count": 36,
     "metadata": {},
     "output_type": "execute_result"
    }
   ],
   "source": [
    "# Display the number of missing (NaN) values in the last 8 columns of the DataFrame\n",
    "df.isnull().sum().tail(8)"
   ]
  },
  {
   "cell_type": "code",
   "execution_count": 37,
   "id": "81337225-9364-42db-94d6-c71e7fadf221",
   "metadata": {},
   "outputs": [],
   "source": [
    "# Identify countries that have at least one non-null entry in 'total_vaccinations'\n",
    "# This ensures we only keep countries that have reported some vaccination data\n",
    "countries_with_vax_data = df.groupby('country')['total_vaccinations'].apply(lambda x: x.notna().any())\n",
    "\n",
    "# Filter the DataFrame to retain only those countries\n",
    "# Extract country names where the condition is True (i.e., they have vaccination data)\n",
    "df = df[df['country'].isin(countries_with_vax_data[countries_with_vax_data].index)]"
   ]
  },
  {
   "cell_type": "code",
   "execution_count": 38,
   "id": "15e4a97a-cca9-477e-9e7a-dbb2ed40121e",
   "metadata": {},
   "outputs": [
    {
     "data": {
      "text/plain": [
       "positive_rate                275521\n",
       "tests_per_case                    0\n",
       "total_vaccinations                0\n",
       "people_vaccinated                 0\n",
       "people_fully_vaccinated        3910\n",
       "new_vaccinations              46920\n",
       "new_vaccinations_smoothed         0\n",
       "population_density             1955\n",
       "dtype: int64"
      ]
     },
     "execution_count": 38,
     "metadata": {},
     "output_type": "execute_result"
    }
   ],
   "source": [
    "# Show the number of missing values in the last 8 columns of the DataFrame\n",
    "df.isnull().sum().tail(8)"
   ]
  },
  {
   "cell_type": "markdown",
   "id": "67264094-106a-419b-acd3-942aa19e5fd4",
   "metadata": {},
   "source": [
    " "
   ]
  },
  {
   "cell_type": "code",
   "execution_count": 39,
   "id": "ecc77012-5817-444f-8d03-0c7310d1eeee",
   "metadata": {},
   "outputs": [],
   "source": [
    "# Fill missing values in 'population_density' for each country\n",
    "# First, forward-fill to carry the last known value forward\n",
    "# Then, backward-fill to handle missing values at the start of each country's data\n",
    "df['population_density'] = df.groupby('country')['population_density'].ffill().bfill()"
   ]
  },
  {
   "cell_type": "code",
   "execution_count": 40,
   "id": "8366d69b-f8a5-48ff-813e-af93c7947de6",
   "metadata": {},
   "outputs": [
    {
     "data": {
      "text/plain": [
       "0"
      ]
     },
     "execution_count": 40,
     "metadata": {},
     "output_type": "execute_result"
    }
   ],
   "source": [
    "# Count and display the number of missing (NaN) values in the 'population_density' column\n",
    "df['population_density'].isnull().sum()"
   ]
  },
  {
   "cell_type": "markdown",
   "id": "e48ab247-402c-4c6b-8ba3-82b0e4b49b92",
   "metadata": {},
   "source": [
    " "
   ]
  },
  {
   "cell_type": "code",
   "execution_count": 41,
   "id": "7689693c-5de5-4a8a-83f6-bddaedc3977d",
   "metadata": {},
   "outputs": [
    {
     "data": {
      "text/plain": [
       "continent                         0\n",
       "country                           0\n",
       "date                              0\n",
       "population                        0\n",
       "total_cases                       0\n",
       "total_cases_per_million           0\n",
       "new_cases                         0\n",
       "new_cases_smoothed                0\n",
       "total_deaths                      0\n",
       "total_deaths_per_million          0\n",
       "new_deaths                        0\n",
       "new_deaths_smoothed               0\n",
       "stringency_index                  0\n",
       "total_tests                       0\n",
       "new_tests                         0\n",
       "positive_rate                275521\n",
       "tests_per_case                    0\n",
       "total_vaccinations                0\n",
       "people_vaccinated                 0\n",
       "people_fully_vaccinated        3910\n",
       "new_vaccinations              46920\n",
       "new_vaccinations_smoothed         0\n",
       "population_density                0\n",
       "dtype: int64"
      ]
     },
     "execution_count": 41,
     "metadata": {},
     "output_type": "execute_result"
    }
   ],
   "source": [
    "# Display the total number of missing (NaN) values for each column in the DataFrame\n",
    "df.isnull().sum()"
   ]
  },
  {
   "cell_type": "code",
   "execution_count": 42,
   "id": "05edeab4-1a2f-4fcd-b99e-f7558a33a398",
   "metadata": {},
   "outputs": [],
   "source": [
    "# Fill missing values in 'people_fully_vaccinated' column by using both forward and backward fill within each country\n",
    "# Forward fill: carries the last known value forward\n",
    "# Backward fill: fills in values at the start of a country's data where forward fill can't help\n",
    "df['people_fully_vaccinated'] = df.groupby('country')['people_fully_vaccinated'].ffill().bfill()"
   ]
  },
  {
   "cell_type": "code",
   "execution_count": 43,
   "id": "daa6ae56-66bc-473b-96e1-3daa2d459085",
   "metadata": {},
   "outputs": [
    {
     "data": {
      "text/plain": [
       "0"
      ]
     },
     "execution_count": 43,
     "metadata": {},
     "output_type": "execute_result"
    }
   ],
   "source": [
    "# Count and display how many missing (NaN) values remain in the 'people_fully_vaccinated' column\n",
    "df['people_fully_vaccinated'].isnull().sum()"
   ]
  },
  {
   "cell_type": "code",
   "execution_count": 44,
   "id": "7f33f38c-05b8-46a2-8a97-5a0874f060e8",
   "metadata": {},
   "outputs": [],
   "source": [
    "# Interpolate missing values in the 'new_vaccinations' column within each country\n",
    "# This assumes vaccinations continued even if data wasn't reported on some days\n",
    "# 'transform' ensures the result is aligned with the original DataFrame index\n",
    "df['new_vaccinations'] = df.groupby('country')['new_vaccinations'].transform(\n",
    "    lambda x: x.interpolate(limit_direction='both')\n",
    ")"
   ]
  },
  {
   "cell_type": "code",
   "execution_count": 45,
   "id": "d9c02d19-9397-435f-bfc6-2accf4bfb1d9",
   "metadata": {},
   "outputs": [
    {
     "data": {
      "text/plain": [
       "46920"
      ]
     },
     "execution_count": 45,
     "metadata": {},
     "output_type": "execute_result"
    }
   ],
   "source": [
    "# Check for remaining NaNs\n",
    "df['new_vaccinations'].isnull().sum()"
   ]
  },
  {
   "cell_type": "code",
   "execution_count": 46,
   "id": "ab36bfff-9dfb-4bf5-9680-5df2a639805e",
   "metadata": {},
   "outputs": [],
   "source": [
    "# Fill any remaining missing values in 'new_vaccinations' with 0\n",
    "# This assumes that if data is still missing after interpolation, no vaccinations occurred that day\n",
    "df['new_vaccinations'] = df['new_vaccinations'].fillna(0)\n",
    "\n",
    "# Clip any negative values (from interpolation errors) to 0\n",
    "# Vaccination counts can't be negative\n",
    "df['new_vaccinations'] = df['new_vaccinations'].clip(lower=0)"
   ]
  },
  {
   "cell_type": "code",
   "execution_count": 47,
   "id": "e10a884c-b703-40f6-b6c3-5bda1fff1d65",
   "metadata": {},
   "outputs": [
    {
     "data": {
      "text/plain": [
       "continent                         0\n",
       "country                           0\n",
       "date                              0\n",
       "population                        0\n",
       "total_cases                       0\n",
       "total_cases_per_million           0\n",
       "new_cases                         0\n",
       "new_cases_smoothed                0\n",
       "total_deaths                      0\n",
       "total_deaths_per_million          0\n",
       "new_deaths                        0\n",
       "new_deaths_smoothed               0\n",
       "stringency_index                  0\n",
       "total_tests                       0\n",
       "new_tests                         0\n",
       "positive_rate                275521\n",
       "tests_per_case                    0\n",
       "total_vaccinations                0\n",
       "people_vaccinated                 0\n",
       "people_fully_vaccinated           0\n",
       "new_vaccinations                  0\n",
       "new_vaccinations_smoothed         0\n",
       "population_density                0\n",
       "dtype: int64"
      ]
     },
     "execution_count": 47,
     "metadata": {},
     "output_type": "execute_result"
    }
   ],
   "source": [
    "# Display the total number of missing (NaN) values in each column of the DataFrame\n",
    "df.isnull().sum()"
   ]
  },
  {
   "cell_type": "markdown",
   "id": "cd036045-bf57-4adb-8130-c82e8629730d",
   "metadata": {},
   "source": [
    " "
   ]
  },
  {
   "cell_type": "code",
   "execution_count": 48,
   "id": "cda0a525-e68c-4be3-afb9-3bce7d90316a",
   "metadata": {},
   "outputs": [
    {
     "data": {
      "text/plain": [
       "positive_rate    275521\n",
       "dtype: int64"
      ]
     },
     "execution_count": 48,
     "metadata": {},
     "output_type": "execute_result"
    }
   ],
   "source": [
    "# Show only the columns with remaining missing values\n",
    "df.isnull().sum()[df.isnull().sum() > 0]"
   ]
  },
  {
   "cell_type": "code",
   "execution_count": 49,
   "id": "5f8f518c-facc-494f-b51e-b53dc169e838",
   "metadata": {},
   "outputs": [],
   "source": [
    "# Interpolate missing values in 'positive_rate' within each country to estimate plausible values\n",
    "# limit_direction='both' fills NaNs at the start and end of each country's time series as well\n",
    "df['positive_rate'] = df.groupby('country')['positive_rate'].transform(\n",
    "    lambda x: x.interpolate(limit_direction='both')\n",
    ")\n",
    "\n",
    "\n",
    "# “Plausible” means something that makes sense or is reasonable given the context — not guaranteed to be exactly true,\n",
    "# but believable based on the data we have."
   ]
  },
  {
   "cell_type": "code",
   "execution_count": 50,
   "id": "627e9626-5e62-4e91-b98e-e62267fe3f8d",
   "metadata": {},
   "outputs": [
    {
     "data": {
      "text/plain": [
       "66470"
      ]
     },
     "execution_count": 50,
     "metadata": {},
     "output_type": "execute_result"
    }
   ],
   "source": [
    "# Count how many missing (NaN) values remain in the 'positive_rate' column after interpolation\n",
    "df['positive_rate'].isnull().sum()"
   ]
  },
  {
   "cell_type": "code",
   "execution_count": 51,
   "id": "f4743be9-d751-4518-9658-2a4238b3377d",
   "metadata": {},
   "outputs": [],
   "source": [
    "# Fill any remaining missing values in 'positive_rate' with 0,\n",
    "# assuming no positive cases when data is missing\n",
    "df['positive_rate'] = df['positive_rate'].fillna(0)\n",
    "\n",
    "# Ensure all values in 'positive_rate' lie between 0 and 1 (valid ratio range)\n",
    "df['positive_rate'] = df['positive_rate'].clip(lower=0, upper=1)"
   ]
  },
  {
   "cell_type": "code",
   "execution_count": 52,
   "id": "35c8288f-9399-4678-bdb9-57bd39a49fc3",
   "metadata": {},
   "outputs": [
    {
     "data": {
      "text/plain": [
       "continent                    0\n",
       "country                      0\n",
       "date                         0\n",
       "population                   0\n",
       "total_cases                  0\n",
       "total_cases_per_million      0\n",
       "new_cases                    0\n",
       "new_cases_smoothed           0\n",
       "total_deaths                 0\n",
       "total_deaths_per_million     0\n",
       "new_deaths                   0\n",
       "new_deaths_smoothed          0\n",
       "stringency_index             0\n",
       "total_tests                  0\n",
       "new_tests                    0\n",
       "positive_rate                0\n",
       "tests_per_case               0\n",
       "total_vaccinations           0\n",
       "people_vaccinated            0\n",
       "people_fully_vaccinated      0\n",
       "new_vaccinations             0\n",
       "new_vaccinations_smoothed    0\n",
       "population_density           0\n",
       "dtype: int64"
      ]
     },
     "execution_count": 52,
     "metadata": {},
     "output_type": "execute_result"
    }
   ],
   "source": [
    "df.isnull().sum()"
   ]
  }
 ],
 "metadata": {
  "kernelspec": {
   "display_name": "Python 3 (ipykernel)",
   "language": "python",
   "name": "python3"
  },
  "language_info": {
   "codemirror_mode": {
    "name": "ipython",
    "version": 3
   },
   "file_extension": ".py",
   "mimetype": "text/x-python",
   "name": "python",
   "nbconvert_exporter": "python",
   "pygments_lexer": "ipython3",
   "version": "3.12.7"
  }
 },
 "nbformat": 4,
 "nbformat_minor": 5
}
